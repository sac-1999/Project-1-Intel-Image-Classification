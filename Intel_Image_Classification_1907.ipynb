{
  "nbformat": 4,
  "nbformat_minor": 0,
  "metadata": {
    "colab": {
      "name": "Intel_Image_Classification_1907.ipynb",
      "provenance": [],
      "collapsed_sections": [],
      "machine_shape": "hm",
      "include_colab_link": true
    },
    "kernelspec": {
      "name": "python3",
      "display_name": "Python 3"
    },
    "language_info": {
      "name": "python"
    },
    "accelerator": "GPU"
  },
  "cells": [
    {
      "cell_type": "markdown",
      "metadata": {
        "id": "view-in-github",
        "colab_type": "text"
      },
      "source": [
        "<a href=\"https://colab.research.google.com/github/sac-1999/Project-1-Intel-Image-Classification/blob/main/Intel_Image_Classification_1907.ipynb\" target=\"_parent\"><img src=\"https://colab.research.google.com/assets/colab-badge.svg\" alt=\"Open In Colab\"/></a>"
      ]
    },
    {
      "cell_type": "markdown",
      "metadata": {
        "id": "sZ6a315y8zW4"
      },
      "source": [
        "## To check GPU alloted specification in google colab\n",
        "\n",
        "\n",
        "\n"
      ]
    },
    {
      "cell_type": "code",
      "metadata": {
        "colab": {
          "base_uri": "https://localhost:8080/"
        },
        "id": "_-UhsI5zMj7F",
        "outputId": "b216e8f3-fb03-42f3-cfea-17636f7a2fde"
      },
      "source": [
        "!nvidia-smi -L"
      ],
      "execution_count": 1,
      "outputs": [
        {
          "output_type": "stream",
          "text": [
            "GPU 0: Tesla T4 (UUID: GPU-007b937f-8c21-a5b0-c0fd-a35abcb414f0)\n"
          ],
          "name": "stdout"
        }
      ]
    },
    {
      "cell_type": "code",
      "metadata": {
        "colab": {
          "base_uri": "https://localhost:8080/"
        },
        "id": "IAPC-bNF4q5q",
        "outputId": "7c517810-8019-4d56-b040-8aa1c94c380b"
      },
      "source": [
        "from google.colab import drive\n",
        "drive.mount('/content/drive')"
      ],
      "execution_count": 2,
      "outputs": [
        {
          "output_type": "stream",
          "text": [
            "Mounted at /content/drive\n"
          ],
          "name": "stdout"
        }
      ]
    },
    {
      "cell_type": "code",
      "metadata": {
        "colab": {
          "base_uri": "https://localhost:8080/"
        },
        "id": "9WsyRfAR8tCg",
        "outputId": "8bcacfeb-cf0d-4332-8efd-70b943d7cbc3"
      },
      "source": [
        "# memory footprint support libraries/code\n",
        "!ln -sf /opt/bin/nvidia-smi /usr/bin/nvidia-smi\n",
        "!pip install gputil\n",
        "!pip install psutil\n",
        "!pip install humanize\n",
        "\n",
        "import psutil\n",
        "import humanize\n",
        "import os\n",
        "import GPUtil as GPU\n",
        "GPUs = GPU.getGPUs()\n",
        "\n",
        "# XXX: only one GPU on Colab and isn’t guaranteed\n",
        "gpu = GPUs[0]\n",
        "def printm():\n",
        "  process = psutil.Process(os.getpid())\n",
        "  print(\"Gen RAM Free: \" + humanize.naturalsize( psutil.virtual_memory().available ), \" | Proc size: \" + humanize.naturalsize( process.memory_info().rss))\n",
        "  print(\"GPU RAM Free: {0:.0f}MB | Used: {1:.0f}MB | Util {2:3.0f}% | Total {3:.0f}MB\".format(gpu.memoryFree, gpu.memoryUsed, gpu.memoryUtil*100, gpu.memoryTotal))\n",
        "\n",
        "printm()"
      ],
      "execution_count": 3,
      "outputs": [
        {
          "output_type": "stream",
          "text": [
            "Collecting gputil\n",
            "  Downloading GPUtil-1.4.0.tar.gz (5.5 kB)\n",
            "Building wheels for collected packages: gputil\n",
            "  Building wheel for gputil (setup.py) ... \u001b[?25l\u001b[?25hdone\n",
            "  Created wheel for gputil: filename=GPUtil-1.4.0-py3-none-any.whl size=7410 sha256=05008f1ecf4cbc34242511061d5b38b833b67e50895d2c863d10584158be91bd\n",
            "  Stored in directory: /root/.cache/pip/wheels/6e/f8/83/534c52482d6da64622ddbf72cd93c35d2ef2881b78fd08ff0c\n",
            "Successfully built gputil\n",
            "Installing collected packages: gputil\n",
            "Successfully installed gputil-1.4.0\n",
            "Requirement already satisfied: psutil in /usr/local/lib/python3.7/dist-packages (5.4.8)\n",
            "Requirement already satisfied: humanize in /usr/local/lib/python3.7/dist-packages (0.5.1)\n",
            "Gen RAM Free: 26.3 GB  | Proc size: 118.2 MB\n",
            "GPU RAM Free: 15109MB | Used: 0MB | Util   0% | Total 15109MB\n"
          ],
          "name": "stdout"
        }
      ]
    },
    {
      "cell_type": "code",
      "metadata": {
        "id": "w90r0cR8K1Mv"
      },
      "source": [
        "import tensorflow.keras.layers as Layers\n",
        "import tensorflow.keras.activations as Actications\n",
        "import tensorflow.keras.models as Models\n",
        "\n",
        "\n",
        "import tensorflow.keras.optimizers as Optimizer"
      ],
      "execution_count": 4,
      "outputs": []
    },
    {
      "cell_type": "markdown",
      "metadata": {
        "id": "ZMn-UMtN-8Xc"
      },
      "source": [
        "# Project Description"
      ]
    },
    {
      "cell_type": "markdown",
      "metadata": {
        "id": "VRX-Gnoi_xF9"
      },
      "source": [
        "### **Context**\n",
        "* This is image data of Natural Scenes around the world.\n",
        "\n",
        "### **Content**\n",
        "This Data contains around 25k images of size 150x150 distributed under 6 categories.\n",
        "\n",
        "* buildings -> 0\n",
        "* forest    -> 1\n",
        "* glacier   -> 2\n",
        "* mountain  -> 3\n",
        "* sea       -> 4\n",
        "* street    -> 5 \n",
        "\n",
        "The Train, Test and Prediction data is separated in each zip files. There are around 14k images in Train, 3k in Test and 7k in Prediction."
      ]
    },
    {
      "cell_type": "code",
      "metadata": {
        "id": "XQlZzhGGuKEc"
      },
      "source": [
        "label_dictionary = {0 : 'buildings',\n",
        "1 : 'forest',\n",
        "2 : 'glacier',\n",
        "3 : 'mountain',\n",
        "4 : 'sea',\n",
        "5 : 'street'} "
      ],
      "execution_count": 5,
      "outputs": []
    },
    {
      "cell_type": "code",
      "metadata": {
        "colab": {
          "base_uri": "https://localhost:8080/"
        },
        "id": "a99Tdze39aus",
        "outputId": "14252741-f90e-4c09-96f9-27acfeef74ff"
      },
      "source": [
        "\n",
        "import os\n",
        "os.environ['KAGGLE_CONFIG_DIR'] = \"/content/drive/My Drive/Kaggle\"\n",
        "%cd /content/drive/My Drive/Kaggle\n"
      ],
      "execution_count": 6,
      "outputs": [
        {
          "output_type": "stream",
          "text": [
            "/content/drive/My Drive/Kaggle\n"
          ],
          "name": "stdout"
        }
      ]
    },
    {
      "cell_type": "code",
      "metadata": {
        "id": "UZY_SiZ1_v7p"
      },
      "source": [
        "#!kaggle datasets download -d puneet6060/intel-image-classification"
      ],
      "execution_count": 7,
      "outputs": []
    },
    {
      "cell_type": "code",
      "metadata": {
        "id": "0X7Ptu6MEmTm"
      },
      "source": [
        "#!unzip \\*.zip  && rm *.zip"
      ],
      "execution_count": 8,
      "outputs": []
    },
    {
      "cell_type": "markdown",
      "metadata": {
        "id": "ReRzvprBgxjY"
      },
      "source": [
        "# Project Pipeline\n",
        "\n",
        "* getting data from kaggle\n",
        "* analysing data\n",
        "* creaating model\n",
        "* training model"
      ]
    },
    {
      "cell_type": "markdown",
      "metadata": {
        "id": "ivy9rDqqJZK3"
      },
      "source": [
        "# Analysing data"
      ]
    },
    {
      "cell_type": "code",
      "metadata": {
        "id": "cjICdqFPGinh"
      },
      "source": [
        "import os\n",
        "import pathlib\n",
        "train_dir = pathlib.Path('/content/drive/MyDrive/Kaggle/seg_train/seg_train')\n",
        "pred_dir =  pathlib.Path('/content/drive/MyDrive/Kaggle/seg_pred/seg_pred')\n",
        "test_dir =  pathlib.Path('/content/drive/MyDrive/Kaggle/seg_test/seg_test')\n"
      ],
      "execution_count": 9,
      "outputs": []
    },
    {
      "cell_type": "code",
      "metadata": {
        "colab": {
          "base_uri": "https://localhost:8080/"
        },
        "id": "WgHQnu92JibB",
        "outputId": "8339f961-21a3-45ab-ca5d-9a3957cb471c"
      },
      "source": [
        "import tensorflow as tf\n",
        "import glob\n",
        "import pathlib\n",
        "\n",
        "\n",
        "print(\"Total no ofimages available for training {0}:  \". format(len(list(train_dir.glob('*/*.jpg')))))"
      ],
      "execution_count": 10,
      "outputs": [
        {
          "output_type": "stream",
          "text": [
            "Total no ofimages available for training 14034:  \n"
          ],
          "name": "stdout"
        }
      ]
    },
    {
      "cell_type": "markdown",
      "metadata": {
        "id": "kk4Kforlez52"
      },
      "source": [
        "# **Data Loading**"
      ]
    },
    {
      "cell_type": "markdown",
      "metadata": {
        "id": "vqrqfxWV0ctU"
      },
      "source": [
        "## 1. Load Training data"
      ]
    },
    {
      "cell_type": "code",
      "metadata": {
        "id": "yeeLEEj2ezKi"
      },
      "source": [
        "def load_traindata(batch_size, image_size):\n",
        "    train_ds = tf.keras.preprocessing.image_dataset_from_directory(train_dir,\n",
        "                                                               labels='inferred',\n",
        "                                                               label_mode='int',\n",
        "                                                               color_mode='rgb',\n",
        "                                                               image_size=image_size,\n",
        "                                                               validation_split = 0.2,\n",
        "                                                               subset = 'training',\n",
        "                                                               seed = 100,\n",
        "                                                               batch_size = batch_size)\n",
        "    \n",
        "    return train_ds\n",
        "\n",
        "def load_valdata(batch_size, image_size):\n",
        "    \n",
        "    val_ds = tf.keras.preprocessing.image_dataset_from_directory(train_dir,\n",
        "                                                               labels='inferred',\n",
        "                                                               label_mode='int',\n",
        "                                                               color_mode='rgb',\n",
        "                                                               image_size=image_size,\n",
        "                                                               validation_split = 0.2,\n",
        "                                                               subset = 'validation',\n",
        "                                                               seed = 100,\n",
        "                                                               batch_size = batch_size)\n",
        "    \n",
        "\n",
        "    return val_ds"
      ],
      "execution_count": 11,
      "outputs": []
    },
    {
      "cell_type": "markdown",
      "metadata": {
        "id": "fbuBluqw0uSS"
      },
      "source": [
        "## 2. Load Test Data"
      ]
    },
    {
      "cell_type": "code",
      "metadata": {
        "id": "9H12zeh80tsV"
      },
      "source": [
        "import cv2\n",
        "from tqdm import tqdm\n",
        "\n",
        "\n",
        "class_names = ['mountain', 'street', 'glacier', 'buildings', 'sea', 'forest']\n",
        "class_names_label = {class_name:i for i, class_name in enumerate(class_names)}\n",
        "\n",
        "def load_testdata(image_size):\n",
        "      \n",
        "    images = []\n",
        "    labels = []\n",
        "    \n",
        "    \n",
        "    for folder in os.listdir(test_dir):\n",
        "        label = class_names_label[folder]\n",
        "        \n",
        "        # Iterate through each image in our folder\n",
        "        for file in tqdm(os.listdir(os.path.join(test_dir, folder))):\n",
        "            \n",
        "            # Get the path name of the image\n",
        "            img_path = os.path.join(os.path.join(test_dir, folder), file)\n",
        "            \n",
        "            # Open and resize the img\n",
        "            image = cv2.imread(img_path)\n",
        "            image = cv2.cvtColor(image, cv2.COLOR_BGR2RGB)\n",
        "            image = cv2.resize(image, image_size) \n",
        "            \n",
        "            # Append the image and its corresponding label to the output\n",
        "            images.append(image)\n",
        "            labels.append(label)\n",
        "            \n",
        "    images = np.array(images, dtype = 'float32')\n",
        "    labels = np.array(labels, dtype = 'int32')   \n",
        "    \n",
        "    \n",
        "    return images, labels"
      ],
      "execution_count": 12,
      "outputs": []
    },
    {
      "cell_type": "markdown",
      "metadata": {
        "id": "smhHQJMQ1ASw"
      },
      "source": [
        "## Prefetch and Tuning in Tensorflow"
      ]
    },
    {
      "cell_type": "code",
      "metadata": {
        "id": "2dfIRksEOYLr"
      },
      "source": [
        "AUTOTUNE = tf.data.AUTOTUNE"
      ],
      "execution_count": 13,
      "outputs": []
    },
    {
      "cell_type": "markdown",
      "metadata": {
        "id": "9mRkZY03wHpq"
      },
      "source": [
        "## Let's Check if data is balanced or not"
      ]
    },
    {
      "cell_type": "code",
      "metadata": {
        "colab": {
          "base_uri": "https://localhost:8080/",
          "height": 282
        },
        "id": "eO_-LzNowT2p",
        "outputId": "ec1eea34-8b41-4b7d-8030-82f28b329db9"
      },
      "source": [
        "# so we will count the no of images present for each category in training directory and if counts matches roughly then data is balanced \n",
        "# If there is huge difference in counts of individual category then we should use various technique to handle imabalance dataset like \n",
        "# undersampling, oversampling , focal loss we will surely discuss these techniques in blog post let's Go ------\n",
        "\n",
        "import matplotlib.pyplot as plt\n",
        "\n",
        "list_of_category = [str(category).split('/')[-1]  for category in list(train_dir.glob('*'))]\n",
        "list_of_category  #  ['buildings', 'forest', 'glacier', 'mountain', 'sea', 'street']\n",
        "\n",
        "total_count = []\n",
        "for category in list_of_category:\n",
        "    l = list(pathlib.Path(os.path.join(train_dir,category)).glob('*'))\n",
        "    total_count.append(len(l))\n",
        "    \n",
        "plt.bar(list_of_category,total_count )\n",
        "\n",
        "# Output shows that dataset is almost balanced yeaahhhhhh!!!"
      ],
      "execution_count": 14,
      "outputs": [
        {
          "output_type": "execute_result",
          "data": {
            "text/plain": [
              "<BarContainer object of 6 artists>"
            ]
          },
          "metadata": {
            "tags": []
          },
          "execution_count": 14
        },
        {
          "output_type": "display_data",
          "data": {
            "image/png": "[encoded data removed]",
            "text/plain": [
              "<Figure size 432x288 with 1 Axes>"
            ]
          },
          "metadata": {
            "tags": [],
            "needs_background": "light"
          }
        }
      ]
    },
    {
      "cell_type": "markdown",
      "metadata": {
        "id": "VvwgQoe-mDPx"
      },
      "source": [
        "## Show Sample images"
      ]
    },
    {
      "cell_type": "code",
      "metadata": {
        "id": "2NOxJib7mQFm"
      },
      "source": [
        "import matplotlib.pyplot as plt\n",
        "\n",
        "def show_sampleimages(dataset):\n",
        "\n",
        "    plt.figure(figsize=(10, 10))\n",
        "    ## take(count) where count is the no of random examples should be taken from dataset\n",
        "    for images, labels in dataset.take(1):\n",
        "        for i in range(9):\n",
        "            ax = plt.subplot(3, 3, i + 1)\n",
        "            plt.imshow(images[i].numpy().astype(\"uint8\"))\n",
        "            plt.title(label_dictionary[int(labels[i])])\n",
        "            plt.axis(\"off\")"
      ],
      "execution_count": 15,
      "outputs": []
    },
    {
      "cell_type": "markdown",
      "metadata": {
        "id": "u-OeLR09SRf8"
      },
      "source": [
        "## Tensorboard Setup\n"
      ]
    },
    {
      "cell_type": "code",
      "metadata": {
        "id": "IsJFkAL_Sl-y"
      },
      "source": [
        "import tensorflow as tf\n",
        "import datetime\n",
        "\n",
        "%reload_ext tensorboard\n",
        "\n",
        "# Clear any logs from previous runs\n",
        "#rm -rf ./logs/\n",
        "log_dir = \"logs/fit/\" + datetime.datetime.now().strftime(\"%Y%m%d-%H%M%S\")\n",
        "tensorboard_callbacks = tf.keras.callbacks.TensorBoard(log_dir=log_dir, histogram_freq=1)"
      ],
      "execution_count": null,
      "outputs": []
    },
    {
      "cell_type": "markdown",
      "metadata": {
        "id": "eAYeKKwYjPW2"
      },
      "source": [
        "## Create basic model"
      ]
    },
    {
      "cell_type": "code",
      "metadata": {
        "id": "yiPDKxkiWkyR"
      },
      "source": [
        "def create_model():\n",
        "\n",
        "    model = Models.Sequential()\n",
        "\n",
        "    model.add(Layers.Conv2D(200,kernel_size=(3,3),activation='relu',input_shape=(150,150,3)))\n",
        "    model.add(Layers.Conv2D(180,kernel_size=(3,3),activation='relu'))\n",
        "    model.add(Layers.MaxPool2D(5,5))\n",
        "    model.add(Layers.Conv2D(180,kernel_size=(3,3),activation='relu'))\n",
        "    model.add(Layers.Conv2D(140,kernel_size=(3,3),activation='relu'))\n",
        "    model.add(Layers.Conv2D(100,kernel_size=(3,3),activation='relu'))\n",
        "    model.add(Layers.Conv2D(50,kernel_size=(3,3),activation='relu'))\n",
        "    model.add(Layers.MaxPool2D(5,5))\n",
        "    model.add(Layers.Flatten())\n",
        "    model.add(Layers.Dense(180,activation='relu'))\n",
        "    model.add(Layers.Dense(100,activation='relu'))\n",
        "    model.add(Layers.Dense(50,activation='relu'))\n",
        "    model.add(Layers.Dropout(rate=0.5))\n",
        "    model.add(Layers.Dense(6,activation='softmax'))\n",
        "\n",
        "    return model\n"
      ],
      "execution_count": null,
      "outputs": []
    },
    {
      "cell_type": "markdown",
      "metadata": {
        "id": "MEctPHMjJtLz"
      },
      "source": [
        "# **Attempt 1:-**\n",
        "\n",
        "Achieved around 83% validation accuracy"
      ]
    },
    {
      "cell_type": "code",
      "metadata": {
        "colab": {
          "base_uri": "https://localhost:8080/"
        },
        "id": "VCDYI7z-5JeW",
        "outputId": "2d0c55b5-7183-4c63-df99-bd7a630b1cd7"
      },
      "source": [
        "batch_size = 32\n",
        "image_size = (150,150)\n",
        "train_ds = load_traindata(batch_size, image_size)\n",
        "val_ds = load_valdata(batch_size, image_size)\n",
        "\n",
        "train_ds = train_ds.cache().prefetch(buffer_size=AUTOTUNE)\n",
        "val_ds = val_ds.cache().prefetch(buffer_size=AUTOTUNE)"
      ],
      "execution_count": null,
      "outputs": [
        {
          "output_type": "stream",
          "text": [
            "Found 14034 files belonging to 6 classes.\n",
            "Using 11228 files for training.\n",
            "Found 14034 files belonging to 6 classes.\n",
            "Using 2806 files for validation.\n"
          ],
          "name": "stdout"
        }
      ]
    },
    {
      "cell_type": "code",
      "metadata": {
        "id": "uQyjiUbHjzZ_"
      },
      "source": [
        "model = create_model()\n",
        "model.compile(optimizer=Optimizer.Adam(learning_rate=0.0001),loss='sparse_categorical_crossentropy',metrics=['accuracy'])"
      ],
      "execution_count": null,
      "outputs": []
    },
    {
      "cell_type": "code",
      "metadata": {
        "colab": {
          "base_uri": "https://localhost:8080/"
        },
        "id": "ppucFi5qwZBQ",
        "outputId": "e5cd4682-7b68-4555-a8a1-f2d3b420acd9"
      },
      "source": [
        "history1 = model.fit(train_ds, epochs = 13, verbose=1,validation_data = val_ds, callbacks=[tensorboard_callbacks] )"
      ],
      "execution_count": null,
      "outputs": [
        {
          "output_type": "stream",
          "text": [
            "Epoch 1/13\n",
            "351/351 [==============================] - 381s 1s/step - loss: 1.2216 - accuracy: 0.5204 - val_loss: 0.9458 - val_accuracy: 0.6258\n",
            "Epoch 2/13\n",
            "351/351 [==============================] - 45s 129ms/step - loss: 1.0108 - accuracy: 0.6203 - val_loss: 0.7752 - val_accuracy: 0.7270\n",
            "Epoch 3/13\n",
            "351/351 [==============================] - 45s 128ms/step - loss: 0.8590 - accuracy: 0.6910 - val_loss: 0.6977 - val_accuracy: 0.7427\n",
            "Epoch 4/13\n",
            "351/351 [==============================] - 45s 129ms/step - loss: 0.7796 - accuracy: 0.7272 - val_loss: 0.6157 - val_accuracy: 0.7833\n",
            "Epoch 5/13\n",
            "351/351 [==============================] - 45s 128ms/step - loss: 0.7161 - accuracy: 0.7488 - val_loss: 0.5838 - val_accuracy: 0.7929\n",
            "Epoch 6/13\n",
            "351/351 [==============================] - 45s 128ms/step - loss: 0.6568 - accuracy: 0.7705 - val_loss: 0.6250 - val_accuracy: 0.7869\n",
            "Epoch 7/13\n",
            "351/351 [==============================] - 45s 128ms/step - loss: 0.6204 - accuracy: 0.7840 - val_loss: 0.5365 - val_accuracy: 0.8115\n",
            "Epoch 8/13\n",
            "351/351 [==============================] - 45s 128ms/step - loss: 0.5639 - accuracy: 0.8067 - val_loss: 0.5259 - val_accuracy: 0.8179\n",
            "Epoch 9/13\n",
            "351/351 [==============================] - 45s 128ms/step - loss: 0.5486 - accuracy: 0.8124 - val_loss: 0.5674 - val_accuracy: 0.7908\n",
            "Epoch 10/13\n",
            "351/351 [==============================] - 45s 128ms/step - loss: 0.5067 - accuracy: 0.8278 - val_loss: 0.5115 - val_accuracy: 0.8218\n",
            "Epoch 11/13\n",
            "351/351 [==============================] - 45s 128ms/step - loss: 0.4689 - accuracy: 0.8366 - val_loss: 0.5294 - val_accuracy: 0.8122\n",
            "Epoch 12/13\n",
            "351/351 [==============================] - 45s 128ms/step - loss: 0.4407 - accuracy: 0.8448 - val_loss: 0.4821 - val_accuracy: 0.8339\n",
            "Epoch 13/13\n",
            "351/351 [==============================] - 45s 128ms/step - loss: 0.4113 - accuracy: 0.8595 - val_loss: 0.4931 - val_accuracy: 0.8261\n"
          ],
          "name": "stdout"
        }
      ]
    },
    {
      "cell_type": "code",
      "metadata": {
        "id": "B9ZOYnbaRw_U"
      },
      "source": [
        "%tensorboard --logdir logs/fit"
      ],
      "execution_count": null,
      "outputs": []
    },
    {
      "cell_type": "markdown",
      "metadata": {
        "id": "t12YqG6BIC0e"
      },
      "source": [
        "## Accuray and Loss Plot"
      ]
    },
    {
      "cell_type": "code",
      "metadata": {
        "id": "2TT5NAh1whDU",
        "colab": {
          "base_uri": "https://localhost:8080/",
          "height": 295
        },
        "outputId": "7d8906c2-beea-4595-daab-93cf95697149"
      },
      "source": [
        "def plot_loss(loss_train, loss_val):\n",
        "    epochs = range(1,len(loss_train)+1)\n",
        "    plt.plot(epochs, loss_train, 'g', label='Training loss')\n",
        "    plt.plot(epochs, loss_val, 'b', label='validation loss')\n",
        "    plt.title('Training and Validation loss')\n",
        "    plt.xlabel('Epochs')\n",
        "    plt.ylabel('Loss')\n",
        "    plt.legend()\n",
        "    plt.show()\n",
        "\n",
        "loss_train = history1.history['loss']\n",
        "loss_val = history1.history['val_loss']\n",
        "plot_loss(loss_train, loss_val)"
      ],
      "execution_count": null,
      "outputs": [
        {
          "output_type": "display_data",
          "data": {
            "image/png": "[encoded data removed]",
            "text/plain": [
              "<Figure size 432x288 with 1 Axes>"
            ]
          },
          "metadata": {
            "tags": [],
            "needs_background": "light"
          }
        }
      ]
    },
    {
      "cell_type": "code",
      "metadata": {
        "colab": {
          "base_uri": "https://localhost:8080/",
          "height": 295
        },
        "id": "Ta49NT0gIseM",
        "outputId": "a3258a7e-a49a-455b-9ed3-8a9a456acf42"
      },
      "source": [
        "def plot_accuracy(accuracy_train, accuracy_val):\n",
        "    epochs = range(1,len(accuracy_train)+1)\n",
        "    plt.plot(epochs, accuracy_train, 'r', label='Training accuracy')\n",
        "    plt.plot(epochs, accuracy_val, 'g', label='validation accuracy')\n",
        "    plt.title('Training and Validation accuracy')\n",
        "    plt.xlabel('Epochs')\n",
        "    plt.ylabel('accuracy')\n",
        "    plt.legend()\n",
        "    plt.show()\n",
        "\n",
        "accuracy_train = history1.history['accuracy']\n",
        "accuracy_val = history1.history['val_accuracy']\n",
        "plot_accuracy(accuracy_train, accuracy_val)"
      ],
      "execution_count": null,
      "outputs": [
        {
          "output_type": "display_data",
          "data": {
            "image/png": "[encoded data removed]",
            "text/plain": [
              "<Figure size 432x288 with 1 Axes>"
            ]
          },
          "metadata": {
            "tags": [],
            "needs_background": "light"
          }
        }
      ]
    },
    {
      "cell_type": "code",
      "metadata": {
        "id": "Sq5SfqQHLGlw"
      },
      "source": [
        "def test_prediction(model):\n",
        "    images, true_labels = load_testdata(image_size)\n",
        "    pred = model.predict(images)\n",
        "    pred_labels = np.argmax(pred , axis = 1)\n",
        "\n",
        "    confusion = sklearn.metrics.confusion_matrix(true_labels, pred_labels)\n",
        "    \n",
        "    return confusion"
      ],
      "execution_count": 49,
      "outputs": []
    },
    {
      "cell_type": "code",
      "metadata": {
        "id": "36of2G_xQIKB"
      },
      "source": [
        "cf_mat = test_prediction(model)"
      ],
      "execution_count": null,
      "outputs": []
    },
    {
      "cell_type": "markdown",
      "metadata": {
        "id": "yUaISqXlGk8w"
      },
      "source": [
        "## Loss Graph Insights\n",
        "\n",
        "at epoch = 10 Model starts overfitting so we can also use early stopping call backs to avoid overfitting the model."
      ]
    },
    {
      "cell_type": "markdown",
      "metadata": {
        "id": "K86JBKoiJ1UU"
      },
      "source": [
        "## Attempt 2 :-\n",
        "Model with batch normalisation layers\n",
        "\n",
        "it took on average 53 s for each epoch but accuracy was still arround 83"
      ]
    },
    {
      "cell_type": "code",
      "metadata": {
        "id": "36T3IDC6J1rH"
      },
      "source": [
        "from tensorflow.keras.layers import BatchNormalization\n",
        "def create_model2():\n",
        "\n",
        "    model = Models.Sequential()\n",
        "\n",
        "    model.add(Layers.Conv2D(200,kernel_size=(3,3),activation='relu',input_shape=(150,150,3)))\n",
        "    model.add(BatchNormalization())\n",
        "    model.add(Layers.Conv2D(180,kernel_size=(3,3),activation='relu'))\n",
        "    model.add(BatchNormalization())\n",
        "    model.add(Layers.MaxPool2D(5,5))\n",
        "    model.add(BatchNormalization())\n",
        "    model.add(Layers.Conv2D(180,kernel_size=(3,3),activation='relu'))\n",
        "    model.add(BatchNormalization())\n",
        "    model.add(Layers.Conv2D(140,kernel_size=(3,3),activation='relu'))\n",
        "    model.add(BatchNormalization())\n",
        "    model.add(Layers.Conv2D(100,kernel_size=(3,3),activation='relu'))\n",
        "    model.add(BatchNormalization())\n",
        "    model.add(Layers.Conv2D(50,kernel_size=(3,3),activation='relu'))\n",
        "    model.add(BatchNormalization())\n",
        "    model.add(Layers.MaxPool2D(5,5))\n",
        "    model.add(BatchNormalization())\n",
        "    model.add(Layers.Flatten())\n",
        "    model.add(Layers.Dense(180,activation='relu'))\n",
        "    model.add(Layers.Dense(100,activation='relu'))\n",
        "    model.add(Layers.Dense(50,activation='relu'))\n",
        "    model.add(Layers.Dropout(rate=0.5))\n",
        "    model.add(Layers.Dense(6,activation='softmax'))\n",
        "\n",
        "    return model"
      ],
      "execution_count": null,
      "outputs": []
    },
    {
      "cell_type": "code",
      "metadata": {
        "id": "cGdVhamYJ1x5"
      },
      "source": [
        "model2 = create_model2()\n",
        "\n",
        "model2.compile(optimizer=Optimizer.Adam(learning_rate=0.0001),loss='sparse_categorical_crossentropy',metrics=['accuracy'])"
      ],
      "execution_count": null,
      "outputs": []
    },
    {
      "cell_type": "code",
      "metadata": {
        "colab": {
          "base_uri": "https://localhost:8080/"
        },
        "id": "qQ3x74f3J13I",
        "outputId": "3a5015d2-667f-44cb-84b1-7ba585e4c23a"
      },
      "source": [
        "history2 = model2.fit(train_ds, epochs = 15, verbose=1,validation_data = val_ds)\n"
      ],
      "execution_count": null,
      "outputs": [
        {
          "output_type": "stream",
          "text": [
            "Epoch 1/15\n",
            "351/351 [==============================] - 54s 152ms/step - loss: 1.3462 - accuracy: 0.4746 - val_loss: 0.8726 - val_accuracy: 0.6857\n",
            "Epoch 2/15\n",
            "351/351 [==============================] - 53s 152ms/step - loss: 0.9035 - accuracy: 0.6935 - val_loss: 0.6660 - val_accuracy: 0.7680\n",
            "Epoch 3/15\n",
            "351/351 [==============================] - 53s 152ms/step - loss: 0.7311 - accuracy: 0.7618 - val_loss: 0.5767 - val_accuracy: 0.7986\n",
            "Epoch 4/15\n",
            "351/351 [==============================] - 53s 151ms/step - loss: 0.6295 - accuracy: 0.7926 - val_loss: 0.5444 - val_accuracy: 0.8004\n",
            "Epoch 5/15\n",
            "351/351 [==============================] - 53s 151ms/step - loss: 0.5605 - accuracy: 0.8154 - val_loss: 0.5441 - val_accuracy: 0.8008\n",
            "Epoch 6/15\n",
            "351/351 [==============================] - 53s 152ms/step - loss: 0.5040 - accuracy: 0.8391 - val_loss: 0.5129 - val_accuracy: 0.8168\n",
            "Epoch 7/15\n",
            "351/351 [==============================] - 53s 151ms/step - loss: 0.4437 - accuracy: 0.8580 - val_loss: 0.5115 - val_accuracy: 0.8243\n",
            "Epoch 8/15\n",
            "351/351 [==============================] - 53s 152ms/step - loss: 0.4055 - accuracy: 0.8715 - val_loss: 0.4692 - val_accuracy: 0.8361\n",
            "Epoch 9/15\n",
            "351/351 [==============================] - ETA: 0s - loss: 0.3563 - accuracy: 0.8854Epoch 10/15\n",
            "351/351 [==============================] - 53s 152ms/step - loss: 0.3294 - accuracy: 0.8950 - val_loss: 0.5107 - val_accuracy: 0.8325\n",
            "Epoch 11/15\n",
            "351/351 [==============================] - 53s 151ms/step - loss: 0.2793 - accuracy: 0.9113 - val_loss: 0.4946 - val_accuracy: 0.8446\n",
            "Epoch 12/15\n",
            "351/351 [==============================] - 53s 152ms/step - loss: 0.2533 - accuracy: 0.9207 - val_loss: 0.5609 - val_accuracy: 0.8254\n",
            "Epoch 13/15\n",
            "351/351 [==============================] - 53s 152ms/step - loss: 0.2206 - accuracy: 0.9329 - val_loss: 0.5546 - val_accuracy: 0.8307\n",
            "Epoch 14/15\n",
            "351/351 [==============================] - 53s 152ms/step - loss: 0.2029 - accuracy: 0.9362 - val_loss: 0.5523 - val_accuracy: 0.8329\n",
            "Epoch 15/15\n",
            "351/351 [==============================] - 53s 152ms/step - loss: 0.1772 - accuracy: 0.9442 - val_loss: 0.6564 - val_accuracy: 0.8118\n"
          ],
          "name": "stdout"
        }
      ]
    },
    {
      "cell_type": "markdown",
      "metadata": {
        "id": "EuykrbIQTo8d"
      },
      "source": [
        "Model Overfitting"
      ]
    },
    {
      "cell_type": "code",
      "metadata": {
        "colab": {
          "base_uri": "https://localhost:8080/",
          "height": 572
        },
        "id": "0DZPfARnT9fG",
        "outputId": "15f6a86f-eac7-47be-e644-b402255aa841"
      },
      "source": [
        "\n",
        "plot_accuracy(history2.history['accuracy'], history2.history['val_accuracy'])\n",
        "\n",
        "plot_loss(history2.history['loss'], history2.history['val_loss'])"
      ],
      "execution_count": null,
      "outputs": [
        {
          "output_type": "display_data",
          "data": {
            "image/png": "[encoded data removed]",
            "text/plain": [
              "<Figure size 432x288 with 1 Axes>"
            ]
          },
          "metadata": {
            "tags": [],
            "needs_background": "light"
          }
        },
        {
          "output_type": "display_data",
          "data": {
            "image/png": "[encoded data removed]",
            "text/plain": [
              "<Figure size 432x288 with 1 Axes>"
            ]
          },
          "metadata": {
            "tags": [],
            "needs_background": "light"
          }
        }
      ]
    },
    {
      "cell_type": "markdown",
      "metadata": {
        "id": "6ggDMd5lJjKH"
      },
      "source": [
        "## Attempt 3:\n",
        "\n",
        "using callbacks(learning rate scheduler) in model no 2 to reduce overfitting"
      ]
    },
    {
      "cell_type": "code",
      "metadata": {
        "id": "tt8EIp0xFf_B"
      },
      "source": [
        "def lr_reshedule(epoch,learning_rate):\n",
        "    if(epoch > 8):\n",
        "        return learning_rate * 0.5\n",
        "\n",
        "    else:\n",
        "        return learning_rate\n",
        "\n",
        "lr_scheduler = tf.keras.callbacks.LearningRateScheduler(lr_reshedule, verbose=0)\n",
        "\n",
        "model3 = create_model2()\n",
        "\n",
        "model3.compile(optimizer=Optimizer.Adam(learning_rate=0.0001),loss='sparse_categorical_crossentropy',metrics=['accuracy'])"
      ],
      "execution_count": null,
      "outputs": []
    },
    {
      "cell_type": "code",
      "metadata": {
        "colab": {
          "base_uri": "https://localhost:8080/"
        },
        "id": "ZdChJ9KHbuNB",
        "outputId": "3b97f0f6-0a0b-4f62-9f31-f0f44488c0a5"
      },
      "source": [
        "history3 = model3.fit(train_ds, epochs = 15, verbose=1,validation_data = val_ds,callbacks = [lr_scheduler])"
      ],
      "execution_count": null,
      "outputs": [
        {
          "output_type": "stream",
          "text": [
            "Epoch 1/15\n",
            "351/351 [==============================] - 54s 152ms/step - loss: 1.3049 - accuracy: 0.4805 - val_loss: 0.8726 - val_accuracy: 0.6818\n",
            "Epoch 2/15\n",
            "351/351 [==============================] - 53s 152ms/step - loss: 0.8872 - accuracy: 0.6815 - val_loss: 0.6726 - val_accuracy: 0.7463\n",
            "Epoch 3/15\n",
            "351/351 [==============================] - 53s 152ms/step - loss: 0.7314 - accuracy: 0.7482 - val_loss: 0.6180 - val_accuracy: 0.7744\n",
            "Epoch 4/15\n",
            "351/351 [==============================] - 53s 152ms/step - loss: 0.6289 - accuracy: 0.7854 - val_loss: 0.5291 - val_accuracy: 0.8051\n",
            "Epoch 5/15\n",
            "351/351 [==============================] - 53s 152ms/step - loss: 0.5557 - accuracy: 0.8119 - val_loss: 0.5161 - val_accuracy: 0.8197\n",
            "Epoch 6/15\n",
            "351/351 [==============================] - 53s 152ms/step - loss: 0.5072 - accuracy: 0.8294 - val_loss: 0.5032 - val_accuracy: 0.8239\n",
            "Epoch 7/15\n",
            "351/351 [==============================] - 53s 152ms/step - loss: 0.4419 - accuracy: 0.8540 - val_loss: 0.5088 - val_accuracy: 0.8297\n",
            "Epoch 8/15\n",
            "351/351 [==============================] - 53s 152ms/step - loss: 0.4064 - accuracy: 0.8620 - val_loss: 0.5116 - val_accuracy: 0.8232\n",
            "Epoch 9/15\n",
            "351/351 [==============================] - 53s 152ms/step - loss: 0.3632 - accuracy: 0.8807 - val_loss: 0.5308 - val_accuracy: 0.8207\n",
            "Epoch 10/15\n",
            "351/351 [==============================] - 53s 152ms/step - loss: 0.2762 - accuracy: 0.9156 - val_loss: 0.4780 - val_accuracy: 0.8471\n",
            "Epoch 11/15\n",
            "351/351 [==============================] - 53s 152ms/step - loss: 0.2228 - accuracy: 0.9343 - val_loss: 0.4570 - val_accuracy: 0.8621\n",
            "Epoch 12/15\n",
            "351/351 [==============================] - 53s 152ms/step - loss: 0.1841 - accuracy: 0.9461 - val_loss: 0.4534 - val_accuracy: 0.8632\n",
            "Epoch 13/15\n",
            "351/351 [==============================] - 53s 152ms/step - loss: 0.1692 - accuracy: 0.9523 - val_loss: 0.4582 - val_accuracy: 0.8632\n",
            "Epoch 14/15\n",
            "351/351 [==============================] - 53s 152ms/step - loss: 0.1655 - accuracy: 0.9548 - val_loss: 0.4600 - val_accuracy: 0.8642\n",
            "Epoch 15/15\n",
            "351/351 [==============================] - 53s 152ms/step - loss: 0.1540 - accuracy: 0.9576 - val_loss: 0.4588 - val_accuracy: 0.8646\n"
          ],
          "name": "stdout"
        }
      ]
    },
    {
      "cell_type": "code",
      "metadata": {
        "colab": {
          "base_uri": "https://localhost:8080/",
          "height": 572
        },
        "id": "dNtaBZnJY17B",
        "outputId": "0ab94cfa-4b56-424b-d0ad-06ddcf9420f4"
      },
      "source": [
        "plot_accuracy(history3.history['accuracy'], history3.history['val_accuracy'])\n",
        "plot_loss(history3.history['loss'], history3.history['val_loss'])"
      ],
      "execution_count": null,
      "outputs": [
        {
          "output_type": "display_data",
          "data": {
            "image/png": "[encoded data removed]",
            "text/plain": [
              "<Figure size 432x288 with 1 Axes>"
            ]
          },
          "metadata": {
            "tags": [],
            "needs_background": "light"
          }
        },
        {
          "output_type": "display_data",
          "data": {
            "image/png": "[encoded data removed]",
            "text/plain": [
              "<Figure size 432x288 with 1 Axes>"
            ]
          },
          "metadata": {
            "tags": [],
            "needs_background": "light"
          }
        }
      ]
    },
    {
      "cell_type": "markdown",
      "metadata": {
        "id": "mvGYEuUcJERJ"
      },
      "source": [
        "## Attempt - 4\n",
        "\n",
        "### Using pretrained Mobilenetv2"
      ]
    },
    {
      "cell_type": "code",
      "metadata": {
        "id": "aPN-nPHiJGEy"
      },
      "source": [
        "image_size = (160,160)\n",
        "image_shape = image_size + (3,)\n",
        "base_model = tf.keras.applications.MobileNetV2(input_shape=image_shape,\n",
        "                                               include_top=False,\n",
        "                                               weights='imagenet')"
      ],
      "execution_count": null,
      "outputs": []
    },
    {
      "cell_type": "code",
      "metadata": {
        "colab": {
          "base_uri": "https://localhost:8080/"
        },
        "id": "5yEnf6nGZpnM",
        "outputId": "92743774-b63d-4ee7-b1f0-61264a62b1a9"
      },
      "source": [
        "batch_size = 32\n",
        "train_ds = load_traindata(batch_size, image_size)\n",
        "val_ds = load_valdata(batch_size, image_size)\n",
        "\n",
        "train_ds = train_ds.cache().prefetch(buffer_size=AUTOTUNE)\n",
        "val_ds = val_ds.cache().prefetch(buffer_size=AUTOTUNE)"
      ],
      "execution_count": null,
      "outputs": [
        {
          "output_type": "stream",
          "text": [
            "Found 14034 files belonging to 6 classes.\n",
            "Using 11228 files for training.\n",
            "Found 14034 files belonging to 6 classes.\n",
            "Using 2806 files for validation.\n"
          ],
          "name": "stdout"
        }
      ]
    },
    {
      "cell_type": "code",
      "metadata": {
        "id": "U7c0t30aJHpv"
      },
      "source": [
        "preprocess_input = tf.keras.applications.mobilenet_v2.preprocess_input\n",
        "base_model.trainable = False"
      ],
      "execution_count": null,
      "outputs": []
    },
    {
      "cell_type": "code",
      "metadata": {
        "id": "ZwRnp8Q5KsYz"
      },
      "source": [
        "inputs = tf.keras.Input(shape=(160,160, 3))\n",
        "x = preprocess_input(inputs)\n",
        "x = base_model(x, training=False)\n",
        "x = tf.keras.layers.GlobalAveragePooling2D()(x)\n",
        "x = tf.keras.layers.Dropout(0.2)(x)\n",
        "outputs = tf.keras.layers.Dense(6, activation = 'Softmax')(x)\n",
        "model4 = tf.keras.Model(inputs, outputs)"
      ],
      "execution_count": null,
      "outputs": []
    },
    {
      "cell_type": "code",
      "metadata": {
        "id": "Z5G0a0kb3XD6"
      },
      "source": [
        "model4.compile(optimizer=tf.keras.optimizers.Adam(learning_rate = 0.00005),\n",
        "              loss='sparse_categorical_crossentropy',\n",
        "              metrics=['accuracy'])"
      ],
      "execution_count": null,
      "outputs": []
    },
    {
      "cell_type": "code",
      "metadata": {
        "id": "A8DbI_efOLSe"
      },
      "source": [
        "def lr_reshedule(epoch,learning_rate):\n",
        "    if(epoch % 2 == 0 ):\n",
        "        return learning_rate*1.\n",
        "    else:\n",
        "        return learning_rate\n",
        "\n",
        "lr_scheduler_on_pretrained = tf.keras.callbacks.LearningRateScheduler(lr_reshedule, verbose=2)"
      ],
      "execution_count": null,
      "outputs": []
    },
    {
      "cell_type": "code",
      "metadata": {
        "colab": {
          "base_uri": "https://localhost:8080/"
        },
        "id": "sdOLMkhe4Rl4",
        "outputId": "334e9b65-3da5-4b0b-c0c1-eb9397384abe"
      },
      "source": [
        "history4 = model4.fit(train_ds,\n",
        "                    epochs=15,\n",
        "                    validation_data=val_ds,\n",
        "                    verbose = 1,\n",
        "                    callbacks = [lr_scheduler_on_pretrained])"
      ],
      "execution_count": null,
      "outputs": [
        {
          "output_type": "stream",
          "text": [
            "Epoch 1/15\n",
            "\n",
            "Epoch 00001: LearningRateScheduler reducing learning rate to 7.499999810534064e-05.\n",
            "351/351 [==============================] - 15s 37ms/step - loss: 1.1191 - accuracy: 0.5846 - val_loss: 0.6061 - val_accuracy: 0.8215\n",
            "Epoch 2/15\n",
            "\n",
            "Epoch 00002: LearningRateScheduler reducing learning rate to 7.499999628635123e-05.\n",
            "351/351 [==============================] - 7s 21ms/step - loss: 0.5242 - accuracy: 0.8229 - val_loss: 0.4208 - val_accuracy: 0.8610\n",
            "Epoch 3/15\n",
            "\n",
            "Epoch 00003: LearningRateScheduler reducing learning rate to 0.00011249999442952685.\n",
            "351/351 [==============================] - 7s 21ms/step - loss: 0.3898 - accuracy: 0.8612 - val_loss: 0.3414 - val_accuracy: 0.8877\n",
            "Epoch 4/15\n",
            "\n",
            "Epoch 00004: LearningRateScheduler reducing learning rate to 0.00011249999806750566.\n",
            "351/351 [==============================] - 7s 21ms/step - loss: 0.3261 - accuracy: 0.8817 - val_loss: 0.3092 - val_accuracy: 0.8981\n",
            "Epoch 5/15\n",
            "\n",
            "Epoch 00005: LearningRateScheduler reducing learning rate to 0.0001687499971012585.\n",
            "351/351 [==============================] - 7s 21ms/step - loss: 0.2917 - accuracy: 0.8952 - val_loss: 0.2845 - val_accuracy: 0.9041\n",
            "Epoch 6/15\n",
            "\n",
            "Epoch 00006: LearningRateScheduler reducing learning rate to 0.0001687500043772161.\n",
            "351/351 [==============================] - 7s 21ms/step - loss: 0.2698 - accuracy: 0.9032 - val_loss: 0.2708 - val_accuracy: 0.9088\n",
            "Epoch 7/15\n",
            "\n",
            "Epoch 00007: LearningRateScheduler reducing learning rate to 0.00025312500656582415.\n",
            "351/351 [==============================] - 7s 20ms/step - loss: 0.2526 - accuracy: 0.9057 - val_loss: 0.2583 - val_accuracy: 0.9120\n",
            "Epoch 8/15\n",
            "\n",
            "Epoch 00008: LearningRateScheduler reducing learning rate to 0.00025312500656582415.\n",
            "351/351 [==============================] - 7s 20ms/step - loss: 0.2360 - accuracy: 0.9152 - val_loss: 0.2508 - val_accuracy: 0.9127\n",
            "Epoch 9/15\n",
            "\n",
            "Epoch 00009: LearningRateScheduler reducing learning rate to 0.0003796875098487362.\n",
            "351/351 [==============================] - 7s 21ms/step - loss: 0.2242 - accuracy: 0.9172 - val_loss: 0.2442 - val_accuracy: 0.9120\n",
            "Epoch 10/15\n",
            "\n",
            "Epoch 00010: LearningRateScheduler reducing learning rate to 0.00037968752440065145.\n",
            "351/351 [==============================] - 7s 21ms/step - loss: 0.2104 - accuracy: 0.9235 - val_loss: 0.2399 - val_accuracy: 0.9130\n",
            "Epoch 11/15\n",
            "\n",
            "Epoch 00011: LearningRateScheduler reducing learning rate to 0.0005695312866009772.\n",
            "351/351 [==============================] - 7s 21ms/step - loss: 0.2090 - accuracy: 0.9236 - val_loss: 0.2382 - val_accuracy: 0.9109\n",
            "Epoch 12/15\n",
            "\n",
            "Epoch 00012: LearningRateScheduler reducing learning rate to 0.0005695312866009772.\n",
            "351/351 [==============================] - 7s 21ms/step - loss: 0.1953 - accuracy: 0.9287 - val_loss: 0.2346 - val_accuracy: 0.9113\n",
            "Epoch 13/15\n",
            "\n",
            "Epoch 00013: LearningRateScheduler reducing learning rate to 0.0008542969299014658.\n",
            "351/351 [==============================] - 7s 21ms/step - loss: 0.1932 - accuracy: 0.9276 - val_loss: 0.2427 - val_accuracy: 0.9116\n",
            "Epoch 14/15\n",
            "\n",
            "Epoch 00014: LearningRateScheduler reducing learning rate to 0.0008542969590052962.\n",
            "351/351 [==============================] - 7s 20ms/step - loss: 0.1815 - accuracy: 0.9322 - val_loss: 0.2445 - val_accuracy: 0.9095\n",
            "Epoch 15/15\n",
            "\n",
            "Epoch 00015: LearningRateScheduler reducing learning rate to 0.0012814454385079443.\n",
            "351/351 [==============================] - 7s 21ms/step - loss: 0.1836 - accuracy: 0.9302 - val_loss: 0.2500 - val_accuracy: 0.9077\n"
          ],
          "name": "stdout"
        }
      ]
    },
    {
      "cell_type": "code",
      "metadata": {
        "id": "j2GmmGXMbkzW",
        "colab": {
          "base_uri": "https://localhost:8080/",
          "height": 572
        },
        "outputId": "82482119-42cb-4fff-dfa3-92995025a985"
      },
      "source": [
        "plot_accuracy(history4.history['accuracy'], history4.history['val_accuracy'])\n",
        "plot_loss(history4.history['loss'], history4.history['val_loss'])"
      ],
      "execution_count": null,
      "outputs": [
        {
          "output_type": "display_data",
          "data": {
            "image/png": "[encoded data removed]",
            "text/plain": [
              "<Figure size 432x288 with 1 Axes>"
            ]
          },
          "metadata": {
            "tags": [],
            "needs_background": "light"
          }
        },
        {
          "output_type": "display_data",
          "data": {
            "image/png": "[encoded data removed]",
            "text/plain": [
              "<Figure size 432x288 with 1 Axes>"
            ]
          },
          "metadata": {
            "tags": [],
            "needs_background": "light"
          }
        }
      ]
    },
    {
      "cell_type": "markdown",
      "metadata": {
        "id": "uq8y31QahbUi"
      },
      "source": [
        "Almost achieved 92 %"
      ]
    },
    {
      "cell_type": "markdown",
      "metadata": {
        "id": "EZG0gaQPhhK-"
      },
      "source": [
        "## Attempt 5 :- \n",
        "\n",
        "Trying to make last few layers of base modeltrainable"
      ]
    },
    {
      "cell_type": "code",
      "metadata": {
        "id": "ORlGEeEHhy5M"
      },
      "source": [
        "model6 = tf.keras.Model(inputs, outputs)"
      ],
      "execution_count": null,
      "outputs": []
    },
    {
      "cell_type": "code",
      "metadata": {
        "id": "FWG9eI7rAGhK"
      },
      "source": [
        "model6.layers[3].layers[-1].trainable = True\n",
        "model6.layers[3].layers[-2].trainable = True\n",
        "model6.layers[3].layers[-3].trainable = True"
      ],
      "execution_count": null,
      "outputs": []
    },
    {
      "cell_type": "code",
      "metadata": {
        "id": "NnEGQks0FfVU"
      },
      "source": [
        "model6.compile(optimizer=tf.keras.optimizers.Adam(learning_rate = 0.0005),\n",
        "              loss='sparse_categorical_crossentropy',\n",
        "              metrics=['accuracy'])"
      ],
      "execution_count": null,
      "outputs": []
    },
    {
      "cell_type": "code",
      "metadata": {
        "colab": {
          "base_uri": "https://localhost:8080/"
        },
        "id": "VoX7Og-hiH0F",
        "outputId": "6305b842-7d27-48d2-8d4c-fa3ef0b65929"
      },
      "source": [
        "history6 = model6.fit(train_ds,\n",
        "                    epochs=13,\n",
        "                    validation_data=val_ds,\n",
        "                    verbose = 1,\n",
        "                    callbacks = [lr_scheduler_on_pretrained])"
      ],
      "execution_count": null,
      "outputs": [
        {
          "output_type": "stream",
          "text": [
            "Epoch 1/13\n",
            "\n",
            "Epoch 00001: LearningRateScheduler reducing learning rate to 0.0002500000118743628.\n",
            "351/351 [==============================] - 10s 22ms/step - loss: 0.2062 - accuracy: 0.9246 - val_loss: 0.2384 - val_accuracy: 0.9152\n",
            "Epoch 2/13\n",
            "\n",
            "Epoch 00002: LearningRateScheduler reducing learning rate to 0.0002500000118743628.\n",
            "351/351 [==============================] - 7s 21ms/step - loss: 0.1997 - accuracy: 0.9280 - val_loss: 0.2383 - val_accuracy: 0.9159\n",
            "Epoch 3/13\n",
            "\n",
            "Epoch 00003: LearningRateScheduler reducing learning rate to 0.0002500000118743628.\n",
            "351/351 [==============================] - 7s 21ms/step - loss: 0.1921 - accuracy: 0.9298 - val_loss: 0.2373 - val_accuracy: 0.9173\n",
            "Epoch 4/13\n",
            "\n",
            "Epoch 00004: LearningRateScheduler reducing learning rate to 0.0001250000059371814.\n",
            "351/351 [==============================] - 7s 21ms/step - loss: 0.1838 - accuracy: 0.9329 - val_loss: 0.2351 - val_accuracy: 0.9163\n",
            "Epoch 5/13\n",
            "\n",
            "Epoch 00005: LearningRateScheduler reducing learning rate to 0.0001250000059371814.\n",
            "351/351 [==============================] - 7s 21ms/step - loss: 0.1825 - accuracy: 0.9330 - val_loss: 0.2350 - val_accuracy: 0.9163\n",
            "Epoch 6/13\n",
            "\n",
            "Epoch 00006: LearningRateScheduler reducing learning rate to 0.0001250000059371814.\n",
            "351/351 [==============================] - 7s 21ms/step - loss: 0.1823 - accuracy: 0.9319 - val_loss: 0.2336 - val_accuracy: 0.9163\n",
            "Epoch 7/13\n",
            "\n",
            "Epoch 00007: LearningRateScheduler reducing learning rate to 6.25000029685907e-05.\n",
            "351/351 [==============================] - 7s 21ms/step - loss: 0.1784 - accuracy: 0.9344 - val_loss: 0.2330 - val_accuracy: 0.9163\n",
            "Epoch 8/13\n",
            "\n",
            "Epoch 00008: LearningRateScheduler reducing learning rate to 6.25000029685907e-05.\n",
            "351/351 [==============================] - 7s 21ms/step - loss: 0.1779 - accuracy: 0.9353 - val_loss: 0.2322 - val_accuracy: 0.9155\n",
            "Epoch 9/13\n",
            "\n",
            "Epoch 00009: LearningRateScheduler reducing learning rate to 6.25000029685907e-05.\n",
            "351/351 [==============================] - 7s 21ms/step - loss: 0.1752 - accuracy: 0.9348 - val_loss: 0.2322 - val_accuracy: 0.9155\n",
            "Epoch 10/13\n",
            "\n",
            "Epoch 00010: LearningRateScheduler reducing learning rate to 3.125000148429535e-05.\n",
            "351/351 [==============================] - 7s 20ms/step - loss: 0.1756 - accuracy: 0.9344 - val_loss: 0.2320 - val_accuracy: 0.9152\n",
            "Epoch 11/13\n",
            "\n",
            "Epoch 00011: LearningRateScheduler reducing learning rate to 3.125000148429535e-05.\n",
            "351/351 [==============================] - 7s 21ms/step - loss: 0.1751 - accuracy: 0.9346 - val_loss: 0.2320 - val_accuracy: 0.9159\n",
            "Epoch 12/13\n",
            "\n",
            "Epoch 00012: LearningRateScheduler reducing learning rate to 3.125000148429535e-05.\n",
            "351/351 [==============================] - 7s 21ms/step - loss: 0.1723 - accuracy: 0.9387 - val_loss: 0.2315 - val_accuracy: 0.9155\n",
            "Epoch 13/13\n",
            "\n",
            "Epoch 00013: LearningRateScheduler reducing learning rate to 1.5625000742147677e-05.\n",
            "351/351 [==============================] - 7s 21ms/step - loss: 0.1702 - accuracy: 0.9359 - val_loss: 0.2314 - val_accuracy: 0.9155\n"
          ],
          "name": "stdout"
        }
      ]
    },
    {
      "cell_type": "code",
      "metadata": {
        "id": "Y4It5TWiyomf",
        "colab": {
          "base_uri": "https://localhost:8080/",
          "height": 572
        },
        "outputId": "b4526a43-e77c-4dfc-e34a-8fe55db6f5d8"
      },
      "source": [
        "plot_accuracy(history6.history['accuracy'], history6.history['val_accuracy'])\n",
        "plot_loss(history6.history['loss'], history6.history['val_loss'])"
      ],
      "execution_count": null,
      "outputs": [
        {
          "output_type": "display_data",
          "data": {
            "image/png": "[encoded data removed]",
            "text/plain": [
              "<Figure size 432x288 with 1 Axes>"
            ]
          },
          "metadata": {
            "tags": [],
            "needs_background": "light"
          }
        },
        {
          "output_type": "display_data",
          "data": {
            "image/png": "[encoded data removed]",
            "text/plain": [
              "<Figure size 432x288 with 1 Axes>"
            ]
          },
          "metadata": {
            "tags": [],
            "needs_background": "light"
          }
        }
      ]
    },
    {
      "cell_type": "markdown",
      "metadata": {
        "id": "nKR2vwvXdDkz"
      },
      "source": [
        "\n",
        "\n",
        "--- Did Not work at allin this case as accuracy is still 91\n",
        "\n"
      ]
    },
    {
      "cell_type": "markdown",
      "metadata": {
        "id": "yCUQ6v6MjoF5"
      },
      "source": [
        "Making last 3 layers trainable for base model din not impact much on accuracy "
      ]
    },
    {
      "cell_type": "markdown",
      "metadata": {
        "id": "bfJ6x3F3kJnr"
      },
      "source": [
        "## Attempt 7 :- (VGG Architecture)\n",
        "Taking some other state of art pretrainde model"
      ]
    },
    {
      "cell_type": "code",
      "metadata": {
        "id": "jMwjUzN2icQ_",
        "colab": {
          "base_uri": "https://localhost:8080/"
        },
        "outputId": "b4848337-c173-40f5-fd05-3cdfcbc1ad04"
      },
      "source": [
        "image_size = (224,224)\n",
        "image_shape = image_size + (3,)\n",
        "\n",
        "base_model = tf.keras.applications.EfficientNetB7(input_shape=image_shape,\n",
        "    include_top=False,\n",
        "    weights=\"imagenet\")"
      ],
      "execution_count": 38,
      "outputs": [
        {
          "output_type": "stream",
          "text": [
            "Downloading data from https://storage.googleapis.com/keras-applications/efficientnetb7_notop.h5\n",
            "258080768/258076736 [==============================] - 2s 0us/step\n"
          ],
          "name": "stdout"
        }
      ]
    },
    {
      "cell_type": "code",
      "metadata": {
        "id": "njOCxvoCs4pq",
        "colab": {
          "base_uri": "https://localhost:8080/"
        },
        "outputId": "fde1573b-5129-40f2-820a-e3740c14944a"
      },
      "source": [
        "batch_size = 32\n",
        "train_ds = load_traindata(batch_size, image_size)\n",
        "val_ds = load_valdata(batch_size, image_size)\n",
        "\n",
        "train_ds = train_ds.cache().prefetch(buffer_size=AUTOTUNE)\n",
        "val_ds = val_ds.cache().prefetch(buffer_size=AUTOTUNE)"
      ],
      "execution_count": 39,
      "outputs": [
        {
          "output_type": "stream",
          "text": [
            "Found 14034 files belonging to 6 classes.\n",
            "Using 11228 files for training.\n",
            "Found 14034 files belonging to 6 classes.\n",
            "Using 2806 files for validation.\n"
          ],
          "name": "stdout"
        }
      ]
    },
    {
      "cell_type": "code",
      "metadata": {
        "id": "PSwdx9x2vDkg"
      },
      "source": [
        "preprocess_input = tf.keras.applications.efficientnet.preprocess_input\n",
        "base_model.trainable = False"
      ],
      "execution_count": 42,
      "outputs": []
    },
    {
      "cell_type": "code",
      "metadata": {
        "id": "CvOHY0aO7TJ5"
      },
      "source": [
        "inputs = tf.keras.Input(shape=(224,224, 3))\n",
        "x = preprocess_input(inputs)\n",
        "x = base_model(x, training=False)\n",
        "x = tf.keras.layers.GlobalAveragePooling2D()(x)\n",
        "x = tf.keras.layers.Dropout(0.2)(x)\n",
        "outputs = tf.keras.layers.Dense(6, activation = 'Softmax')(x)\n",
        "model7 = tf.keras.Model(inputs, outputs)"
      ],
      "execution_count": 43,
      "outputs": []
    },
    {
      "cell_type": "code",
      "metadata": {
        "id": "vw4jJ9ly7xHt"
      },
      "source": [
        "model7.compile(optimizer=tf.keras.optimizers.Adam(learning_rate = 0.0005),\n",
        "              loss='sparse_categorical_crossentropy',\n",
        "              metrics=['accuracy'])"
      ],
      "execution_count": 44,
      "outputs": []
    },
    {
      "cell_type": "code",
      "metadata": {
        "colab": {
          "base_uri": "https://localhost:8080/"
        },
        "id": "es3KAocB73E3",
        "outputId": "c9fe8d01-a4bd-41bf-92d0-85306dd10170"
      },
      "source": [
        "history7 = model7.fit(train_ds,\n",
        "                    epochs=13,\n",
        "                    validation_data=val_ds,\n",
        "                    verbose = 1)"
      ],
      "execution_count": 47,
      "outputs": [
        {
          "output_type": "stream",
          "text": [
            "Epoch 1/13\n",
            "351/351 [==============================] - 160s 456ms/step - loss: 0.4102 - accuracy: 0.8733 - val_loss: 0.2983 - val_accuracy: 0.8945\n",
            "Epoch 2/13\n",
            "351/351 [==============================] - 158s 450ms/step - loss: 0.2623 - accuracy: 0.9083 - val_loss: 0.2630 - val_accuracy: 0.9066\n",
            "Epoch 3/13\n",
            "351/351 [==============================] - 158s 449ms/step - loss: 0.2330 - accuracy: 0.9160 - val_loss: 0.2495 - val_accuracy: 0.9105\n",
            "Epoch 4/13\n",
            "351/351 [==============================] - 158s 449ms/step - loss: 0.2155 - accuracy: 0.9235 - val_loss: 0.2408 - val_accuracy: 0.9130\n",
            "Epoch 5/13\n",
            "351/351 [==============================] - 158s 450ms/step - loss: 0.2032 - accuracy: 0.9270 - val_loss: 0.2353 - val_accuracy: 0.9145\n",
            "Epoch 6/13\n",
            "351/351 [==============================] - 158s 449ms/step - loss: 0.1948 - accuracy: 0.9302 - val_loss: 0.2310 - val_accuracy: 0.9163\n",
            "Epoch 7/13\n",
            "351/351 [==============================] - 158s 449ms/step - loss: 0.1871 - accuracy: 0.9328 - val_loss: 0.2283 - val_accuracy: 0.9163\n",
            "Epoch 8/13\n",
            "351/351 [==============================] - 158s 449ms/step - loss: 0.1804 - accuracy: 0.9360 - val_loss: 0.2268 - val_accuracy: 0.9166\n",
            "Epoch 9/13\n",
            "351/351 [==============================] - 158s 449ms/step - loss: 0.1742 - accuracy: 0.9370 - val_loss: 0.2246 - val_accuracy: 0.9166\n",
            "Epoch 10/13\n",
            "351/351 [==============================] - 158s 449ms/step - loss: 0.1680 - accuracy: 0.9405 - val_loss: 0.2233 - val_accuracy: 0.9166\n",
            "Epoch 11/13\n",
            "351/351 [==============================] - 158s 450ms/step - loss: 0.1668 - accuracy: 0.9413 - val_loss: 0.2222 - val_accuracy: 0.9166\n",
            "Epoch 12/13\n",
            "351/351 [==============================] - 158s 449ms/step - loss: 0.1599 - accuracy: 0.9428 - val_loss: 0.2210 - val_accuracy: 0.9163\n",
            "Epoch 13/13\n",
            "351/351 [==============================] - 158s 449ms/step - loss: 0.1573 - accuracy: 0.9443 - val_loss: 0.2199 - val_accuracy: 0.9166\n"
          ],
          "name": "stdout"
        }
      ]
    },
    {
      "cell_type": "code",
      "metadata": {
        "id": "1IDu1ztn8PlK",
        "colab": {
          "base_uri": "https://localhost:8080/"
        },
        "outputId": "e3e38b28-ae14-4bbd-9b65-67bdca794dc7"
      },
      "source": [
        "cf = test_prediction(model7)"
      ],
      "execution_count": null,
      "outputs": [
        {
          "output_type": "stream",
          "text": [
            "100%|██████████| 437/437 [02:32<00:00,  2.86it/s]\n",
            "100%|██████████| 474/474 [02:39<00:00,  2.98it/s]\n",
            "100%|██████████| 553/553 [03:05<00:00,  2.97it/s]\n",
            "100%|██████████| 525/525 [02:53<00:00,  3.02it/s]\n",
            " 86%|████████▋ | 440/510 [02:27<00:25,  2.70it/s]"
          ],
          "name": "stderr"
        }
      ]
    },
    {
      "cell_type": "code",
      "metadata": {
        "id": "XufdiQa2B955"
      },
      "source": [
        ""
      ],
      "execution_count": null,
      "outputs": []
    }
  ]
}